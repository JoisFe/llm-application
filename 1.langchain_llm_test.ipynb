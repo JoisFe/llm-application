{
 "cells": [
  {
   "cell_type": "code",
   "execution_count": 1,
   "id": "257b0265",
   "metadata": {},
   "outputs": [
    {
     "data": {
      "text/plain": [
       "True"
      ]
     },
     "execution_count": 1,
     "metadata": {},
     "output_type": "execute_result"
    }
   ],
   "source": [
    "from dotenv import load_dotenv\n",
    "load_dotenv()"
   ]
  },
  {
   "cell_type": "code",
   "execution_count": 3,
   "id": "984d8b83",
   "metadata": {},
   "outputs": [],
   "source": [
    "from langchain_ollama import ChatOllama\n",
    "llm = ChatOllama(model=\"llama3.2\")"
   ]
  },
  {
   "cell_type": "code",
   "execution_count": 4,
   "id": "ade26ef0",
   "metadata": {},
   "outputs": [
    {
     "data": {
      "text/plain": [
       "'인프런은 많은 강의를 제공합니다. 인프런은 전문가가 강의를 주고, 다른 사람들과 함께 배우는 일종의 온라인-learning 플랫폼입니다.\\n\\n인프런에서提供하는 강의에는 다음과 같은 것들이 있습니다.\\n\\n1. **IT 및 기술 관련 강의**: 프로그래밍, 데이터 science, AI, Blockchain, cybersecurity, DevOps, etc.\\n2. **Business 및 관리 related 강의**: business strategy, management, marketing, finance, human resources, etc.\\n3. **학업 및 연구 관련 강의**: 학부, 대학, 석사, 박사 등 다양한 학문 분야의 강의\\n4. **건강과 wellbeing related 강의**: 健康,體育, mindfulness, meditation, etc.\\n5. **아동 및 교육 related 강의**: 아동教育, 어린이 educations, parenting, etc.\\n\\n인프런에서 제공하는 강은 다음과 같은 특징을 가집니다.\\n\\n* 전문가가 강의를 주어 expertise와 experience가 부족하지 않습니다.\\n* 강의는 온라인으로 진행되므로 시간과 장소에 제한이 없으며, 다양한時間대에 접근할 수 있습니다.\\n* 강의는 video, slide presentation, practice problem, etc.로 구성되어 있어 복습 및 연습할 수 있습니다.\\n\\n인프런은 다양한 강의를 제공하는 것을 주로 목표로 하며, 다양한 분야와 موضوع에서 강의를 통해 지식을 배우고 성장할 수 있도록 해 줍니다.'"
      ]
     },
     "execution_count": 4,
     "metadata": {},
     "output_type": "execute_result"
    }
   ],
   "source": [
    "llm.invoke(\"인프런에 어떤 강의가 있니?\").content"
   ]
  },
  {
   "cell_type": "code",
   "execution_count": null,
   "id": "2d58d2bb",
   "metadata": {},
   "outputs": [],
   "source": []
  }
 ],
 "metadata": {
  "kernelspec": {
   "display_name": "llm-application",
   "language": "python",
   "name": "python3"
  },
  "language_info": {
   "codemirror_mode": {
    "name": "ipython",
    "version": 3
   },
   "file_extension": ".py",
   "mimetype": "text/x-python",
   "name": "python",
   "nbconvert_exporter": "python",
   "pygments_lexer": "ipython3",
   "version": "3.10.16"
  }
 },
 "nbformat": 4,
 "nbformat_minor": 5
}
